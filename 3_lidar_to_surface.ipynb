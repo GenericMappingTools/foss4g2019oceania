{
 "cells": [
  {
   "cell_type": "markdown",
   "metadata": {},
   "source": [
    "# **3. LiDAR Point clouds to 3D surfaces**\n",
    "\n",
    "In this final tutorial, we'll see how PyGMT can be used\n",
    "to perform more advanced geoprocessing workflows\n",
    "such as filtering and interpolation of point datasets to grids.\n",
    "At the end, we'll also experiment with making some 3D perspective plots\n",
    "of a Digital Surface Model (DSM) we produced through this exercise!"
   ]
  },
  {
   "cell_type": "markdown",
   "metadata": {},
   "source": [
    "## **Getting started**\n",
    "\n",
    "Let's start by importing the Python libraries we'll be using.\n",
    "We'll be using [laspy](https://github.com/laspy/laspy) to read in LAZ LiDAR files,\n",
    "and [rioxarray](https://corteva.github.io/rioxarray) to export our DSM to a GeoTIFF later on.\n",
    "Hopefully [pandas](https://pandas.pydata.org) and [pygmt](https://www.pygmt.org)\n",
    "will be familiar to you by now."
   ]
  },
  {
   "cell_type": "code",
   "execution_count": null,
   "metadata": {},
   "outputs": [],
   "source": [
    "import laspy\n",
    "import pandas as pd\n",
    "import pygmt\n",
    "import rioxarray"
   ]
  },
  {
   "cell_type": "markdown",
   "metadata": {},
   "source": [
    "## **3.1 Loading a LiDAR point cloud**\n",
    "\n",
    "This time we'll be visiting [Picton](https://en.wikipedia.org/wiki/Picton%2C_New_Zealand)\n",
    "which is a town 65 km west of New Zealand's capital Wellington.\n",
    "They've had a fairly recent LiDAR survey done between May and September 2018,\n",
    "with the point cloud and derived products published at \n",
    "[OpenTopography](https://doi.org/10.5069/G91R6NNG) and\n",
    "[LINZ Data Service](https://data.linz.govt.nz/layer/103538-marlborough-lidar-index-tiles-2018/)\n",
    "(under a [CC BY 4.0](https://creativecommons.org/licenses/by/4.0/) license).\n",
    "This tutorial is actually inspired by this\n",
    "[blog post](https://medium.com/on-location/from-points-to-pixels-creating-digital-elevation-models-from-open-topography-point-clouds-abe616d06860)\n",
    "published by LINZ.\n",
    "\n",
    "First though, we'll need to download a sample file to play with.\n",
    "Luckily for us,\n",
    "there is a function called [pygmt.which](https://www.pygmt.org/dev/api/generated/pygmt.which)\n",
    "that has to ability to do just that!\n",
    "The download=\"l\" option can be used to download a remote file to our local working directory."
   ]
  },
  {
   "cell_type": "code",
   "execution_count": null,
   "metadata": {},
   "outputs": [],
   "source": [
    "lazfile = pygmt.which(\n",
    "    fname=\"https://cloud.sdsc.edu/v1/AUTH_opentopography/PC_Bulk/NZ18_Marlbo/CL2_BQ29_2018_1000_1607.laz\",\n",
    "    download=\"l\"\n",
    ")\n",
    "print(lazfile)"
   ]
  },
  {
   "cell_type": "markdown",
   "metadata": {},
   "source": [
    "Now we can use [laspy](https://github.com/laspy/laspy) to read in our example LAZ file\n",
    "into a [pandas.DataFrame](https://pandas.pydata.org/pandas-docs/stable/reference/api/pandas.DataFrame.html).\n",
    "The data will be kept in a variable called 'df' which stands for dataframe."
   ]
  },
  {
   "cell_type": "code",
   "execution_count": null,
   "metadata": {},
   "outputs": [],
   "source": [
    "with laspy.file.File(lazfile, mode=\"r\") as lasdata:\n",
    "    df = pd.DataFrame(data=lasdata.points[\"point\"])\n",
    "    df.X = lasdata.get_x_scaled()\n",
    "    df.Y = lasdata.get_y_scaled()\n",
    "    df.Z = lasdata.get_z_scaled()"
   ]
  },
  {
   "cell_type": "markdown",
   "metadata": {},
   "source": [
    "### **Quick data preview**"
   ]
  },
  {
   "cell_type": "markdown",
   "metadata": {},
   "source": [
    "Let's see how many data points (rows) we have,\n",
    "get the bounding box region of our study area,\n",
    "and also take a look at a snippet of our table."
   ]
  },
  {
   "cell_type": "code",
   "execution_count": null,
   "metadata": {},
   "outputs": [],
   "source": [
    "region = [df.X.min(), df.X.max(), df.Y.min(), df.Y.max()]\n",
    "print(f\"Total of {len(df)} data points, covering region {region}\")\n",
    "df.head()"
   ]
  },
  {
   "cell_type": "markdown",
   "metadata": {},
   "source": [
    "More than 2 million points, that's a lot!\n",
    "Let's try to take a quick look of our LiDAR elevation points on a map.\n",
    "PyGMT *can* plot these many points, but it might take a long time,\n",
    "so let's do a quick filter by taking every\n",
    "[n-th row](https://stackoverflow.com/questions/25055712/pandas-every-nth-rowhttps://stackoverflow.com/questions/25055712/pandas-every-nth-row)\n",
    "from our dataframe table."
   ]
  },
  {
   "cell_type": "code",
   "execution_count": null,
   "metadata": {},
   "outputs": [],
   "source": [
    "df_filtered = df.iloc[::20]\n",
    "print(f\"Filtered down to {len(df_filtered)} data points\")"
   ]
  },
  {
   "cell_type": "markdown",
   "metadata": {},
   "source": [
    "Now we can visualize these quickly on a map with PyGMT."
   ]
  },
  {
   "cell_type": "code",
   "execution_count": null,
   "metadata": {},
   "outputs": [],
   "source": [
    "fig = pygmt.Figure()\n",
    "fig.basemap(frame=True, region=region, projection=\"x1:5000\")\n",
    "pygmt.makecpt(cmap=\"earth\", series=[df.Z.min(), df.Z.max()])\n",
    "fig.plot(x=df_filtered.X, y=df_filtered.Y, color=df_filtered.Z, style=\"c0.05c\", cmap=True)\n",
    "fig.colorbar(position=\"JMR\", frame=[\"af\", 'y+l\"Elevation (m)\"'], X=\"1.5c\")\n",
    "fig.show()"
   ]
  },
  {
   "cell_type": "markdown",
   "metadata": {},
   "source": [
    "It's hard to make out what the objects are,\n",
    "but hopefully you'll see what looks like a wharf with docks on the top left corner.\n",
    "This is basically showing us a part of the port of Picton."
   ]
  },
  {
   "cell_type": "markdown",
   "metadata": {},
   "source": [
    "## **3.2 Creating a Digital Surface Model (DSM)**\n",
    "\n",
    "Let's now produce a digital surface model from our point cloud.\n",
    "We'll first do some proper spatial data cleaning using both\n",
    "[pandas](https://pandas.pydata.org) and [pygmt](https://www.pygmt.org)."
   ]
  },
  {
   "cell_type": "markdown",
   "metadata": {},
   "source": [
    "The first step is to remove the LiDAR points classified as water\n",
    "(see [ASPRS LAS Specification](https://www.asprs.org/a/society/committees/standards/LAS_1_4_r13.pdf)),\n",
    "which is done by querying all the points that are not '9'."
   ]
  },
  {
   "cell_type": "code",
   "execution_count": null,
   "metadata": {},
   "outputs": [],
   "source": [
    "df = df.query(expr=\"raw_classification != 9\")"
   ]
  },
  {
   "cell_type": "markdown",
   "metadata": {},
   "source": [
    "Next, we'll use the [blockmedian](https://pygmt-git-foss4g2019oceania.gmt.now.sh/api/generated/pygmt.blockmedian.html#pygmt.blockmedian)\n",
    "to trim the points down spatially.\n",
    "By default, this function will compute a single median elevation for every pixel on an equally spaced grid.\n",
    "\n",
    "For a DSM though,\n",
    "we should technically be picking the highest elevation instead of the median.\n",
    "We'll tell blockmedian to use the 99th [quantile](https://docs.generic-mapping-tools.org/latest/blockmedian.html#t) (T) instead,\n",
    "and set our output grid spacing to be exactly 1 m (1+e).\n",
    "Note that we'll only be taking the X, Y, and Z (elevation) columns for this."
   ]
  },
  {
   "cell_type": "code",
   "execution_count": null,
   "metadata": {},
   "outputs": [],
   "source": [
    "df_trimmed = pygmt.blockmedian(table=df[[\"X\", \"Y\", \"Z\"]], T=0.99, spacing=\"1+e\", region=region)\n",
    "df_trimmed"
   ]
  },
  {
   "cell_type": "markdown",
   "metadata": {},
   "source": [
    "Lastly, we'll use [pygmt.surface](https://www.pygmt.org/dev/api/generated/pygmt.surface)\n",
    "to produce a grid from the x, y, z data points.\n",
    "We'll make sure to set our desired grid spacing to be exactly 1 m (1+e) again,\n",
    "and also set a tension factor (T) of 0.35 which is suitable for steep topography\n",
    "(since we have some buildings with 'steep' vertical edges).\n",
    "Note that this might take some time to run."
   ]
  },
  {
   "cell_type": "code",
   "execution_count": null,
   "metadata": {},
   "outputs": [],
   "source": [
    "grid = pygmt.surface(\n",
    "    x=df_trimmed.X,\n",
    "    y=df_trimmed.Y,\n",
    "    z=df_trimmed.Z,\n",
    "    spacing=\"1+e\",\n",
    "    region=region,\n",
    "    T=0.35\n",
    ")"
   ]
  },
  {
   "cell_type": "markdown",
   "metadata": {},
   "source": [
    "Let's take a look at the output.\n",
    "The grid will be returned as an\n",
    "[xarray.Dataset](http://xarray.pydata.org/en/stable/generated/xarray.Dataset.html#xarray.Dataset),\n",
    "with each pixel's elevation stored in the data variable 'z'."
   ]
  },
  {
   "cell_type": "code",
   "execution_count": null,
   "metadata": {},
   "outputs": [],
   "source": [
    "grid"
   ]
  },
  {
   "cell_type": "markdown",
   "metadata": {},
   "source": [
    "To look at the actual elevation values,\n",
    "we need to call `grid.z` which gives us an\n",
    "[xarray.DataArray](http://xarray.pydata.org/en/stable/generated/xarray.DataArray.html#xarray.DataArray)\n",
    "(i.e. an xarray.DataArray is one variable inside of an xarray.Dataset)."
   ]
  },
  {
   "cell_type": "code",
   "execution_count": null,
   "metadata": {},
   "outputs": [],
   "source": [
    "grid.z"
   ]
  },
  {
   "cell_type": "markdown",
   "metadata": {},
   "source": [
    "## **3.3 Plotting a Digital Surface Model (DSM)**"
   ]
  },
  {
   "cell_type": "markdown",
   "metadata": {},
   "source": [
    "### **Plotting in 2D**\n",
    "\n",
    "Now we can plot our Digital Surface Model (DSM) grid!\n",
    "Since [grdimage](https://www.pygmt.org/dev/api/generated/pygmt.Figure.grdimage)\n",
    "requires our grid to be an xarray.DataArray instead of an xarray.Dataset,\n",
    "we'll need to pass in 'grid.z' instead of just 'grid'."
   ]
  },
  {
   "cell_type": "code",
   "execution_count": null,
   "metadata": {},
   "outputs": [],
   "source": [
    "fig2 = pygmt.Figure()\n",
    "fig2.basemap(frame=True, region=region, projection=\"x1:5000\")\n",
    "pygmt.makecpt(cmap=\"earth\", series=[-10, 50])\n",
    "fig2.grdimage(grid=grid.z)\n",
    "fig2.colorbar(position=\"JMR\", frame=[\"af\", 'y+l\"Elevation (m)\"'], X=\"1.2c\")\n",
    "fig2.show()"
   ]
  },
  {
   "cell_type": "markdown",
   "metadata": {},
   "source": [
    "### **Plotting a 3D perspective view!**\n",
    "\n",
    "Now comes the cool part.\n",
    "PyGMT has a [grdview](https://pygmt-git-foss4g2019oceania.gmt.now.sh/api/generated/pygmt.Figure.grdview.html#pygmt.Figure.grdview)\n",
    "function that has the ability to make high quality 3D perspective plots of our elevation surface!\n",
    "\n",
    "Besides providing the elevation 'reliefgrid', there are a few basic things to configure:\n",
    "- cmap - name of colormap to use\n",
    "- surftype - we'll use 's' here which just creates a regular surface\n",
    "- perspective - set azimuth angle (e.g. 45 for NorthEast) and elevation (e.g 30 degrees) of the viewpoint\n",
    "- zscale - a vertical exaggeration factor, we'll use 0.1 here."
   ]
  },
  {
   "cell_type": "code",
   "execution_count": null,
   "metadata": {},
   "outputs": [],
   "source": [
    "fig3 = pygmt.Figure()\n",
    "fig3.grdview(\n",
    "    reliefgrid=grid.z,\n",
    "    cmap=\"earth\",\n",
    "    surftype=\"s\",  # surface plot\n",
    "    perspective=[45, 30],  # azimuth bearing, and elevation angle\n",
    "    zscale=0.1,  # vertical exaggeration\n",
    ")\n",
    "fig3.show()"
   ]
  },
  {
   "cell_type": "markdown",
   "metadata": {},
   "source": [
    "There are also other things we can add such as a proper 3D map frame with:\n",
    "- automatic tick marks on x and y axis (e.g. xaf+l\"Label\")\n",
    "- z-axis automatic tick marks (zaf+l\"Label\")\n",
    "- plot title (+t\"Title\")"
   ]
  },
  {
   "cell_type": "code",
   "execution_count": null,
   "metadata": {},
   "outputs": [],
   "source": [
    "fig3 = pygmt.Figure()\n",
    "fig3.grdview(\n",
    "    reliefgrid=grid.z,\n",
    "    cmap=\"earth\",\n",
    "    surftype=\"s\",  # surface plot\n",
    "    perspective=[45, 30],  # azimuth bearing, and elevation angle\n",
    "    zscale=0.1,  # vertical exaggeration\n",
    "    frame=['xaf+l\"Easting\"', 'yaf+l\"Northing\"', 'zaf+l\"Elevation (m)\"', '+t\"Picton Harbour\"']\n",
    ")\n",
    "fig3.show()"
   ]
  },
  {
   "cell_type": "markdown",
   "metadata": {},
   "source": [
    "Before moving on,\n",
    "have a go at changing the azimuth and elevation angle to get a different view.\n",
    "Try to tweak the vertical exaggeration factor and play around with the map frame."
   ]
  },
  {
   "cell_type": "markdown",
   "metadata": {},
   "source": [
    "### **Save the figure and output DSM to a GeoTIFF**\n",
    "\n",
    "Remember to save your work!\n",
    "We'll save each of our figures into separate files first."
   ]
  },
  {
   "cell_type": "code",
   "execution_count": null,
   "metadata": {},
   "outputs": [],
   "source": [
    "fig.savefig(fname=\"picton_1d_lidar.png\")\n",
    "fig2.savefig(fname=\"picton_2d_dsm_map.png\")\n",
    "fig3.savefig(fname=\"picton_3d_dsm_view.png\")"
   ]
  },
  {
   "cell_type": "markdown",
   "metadata": {},
   "source": [
    "Also, it'll be good to have a proper GeoTIFF of the DSM we made.\n",
    "This can be done using\n",
    "[rioxarray's to_raster method](https://corteva.github.io/rioxarray/html/examples/convert_to_raster.html)."
   ]
  },
  {
   "cell_type": "code",
   "execution_count": null,
   "metadata": {},
   "outputs": [],
   "source": [
    "grid.z.rio.to_raster(raster_path=\"DSM_of_Picton.tif\")"
   ]
  },
  {
   "cell_type": "markdown",
   "metadata": {},
   "source": [
    "The files should now appear on the file list on the left,\n",
    "and you can download them to your computer."
   ]
  },
  {
   "cell_type": "markdown",
   "metadata": {},
   "source": [
    "## **3.4 Exploration time - Create a 3D surface map of another area**\n",
    "\n",
    "Yet another challenge to test your PyGMT skills!\n",
    "You'll be processing a LiDAR point cloud of a different area from start to finish.\n",
    "Good luck!"
   ]
  },
  {
   "cell_type": "markdown",
   "metadata": {},
   "source": [
    "Feel free to find a dataset from an area you're interested in using\n",
    "[OpenTopography](http://opentopo.sdsc.edu/datasets).\n",
    "To make it easier though, I've provided an example for [Queenstown, New Zealand](https://data.linz.govt.nz/layer/99121-otago-queenstown-lidar-index-tiles-2016/) below:\n",
    "  (OpenTopography [link](http://opentopo.sdsc.edu/lidarDataset?opentopoID=OTLAS.012019.2193.1)):\n",
    "  - https://cloud.sdsc.edu/v1/AUTH_opentopography/PC_Bulk/NZ16_Queen/CL2_CC11_2016_1000_0813.laz\n",
    "  - https://cloud.sdsc.edu/v1/AUTH_opentopography/PC_Bulk/NZ16_Queen/CL2_CC11_2016_1000_0814.laz\n",
    "  - https://cloud.sdsc.edu/v1/AUTH_opentopography/PC_Bulk/NZ16_Queen/CL2_CC11_2016_1000_0913.laz\n",
    "  - https://cloud.sdsc.edu/v1/AUTH_opentopography/PC_Bulk/NZ16_Queen/CL2_CC11_2016_1000_0914.laz"
   ]
  },
  {
   "cell_type": "markdown",
   "metadata": {},
   "source": [
    "### **Download and load data**"
   ]
  },
  {
   "cell_type": "code",
   "execution_count": null,
   "metadata": {},
   "outputs": [],
   "source": [
    "filenames = [\n",
    "    \"\",\n",
    "]\n",
    "\n",
    "df = pd.DataFrame()  # Start an empty DataFrame\n",
    "for fname in filenames:\n",
    "    lazfile = pygmt.which(\n",
    "        fname=fname,\n",
    "        download=\"l\"\n",
    "    )\n",
    "    with laspy.file.File(lazfile, mode=\"r\") as lasdata:\n",
    "        temp_df = pd.DataFrame(data=lasdata.points[\"point\"])\n",
    "        temp_df.X = lasdata.get_x_scaled()\n",
    "        temp_df.Y = lasdata.get_y_scaled()\n",
    "        temp_df.Z = lasdata.get_z_scaled()\n",
    "    df = df.append(temp_df, ignore_index=True)  # load each point cloud into the DataFrame"
   ]
  },
  {
   "cell_type": "code",
   "execution_count": null,
   "metadata": {},
   "outputs": [],
   "source": [
    "df"
   ]
  },
  {
   "cell_type": "markdown",
   "metadata": {},
   "source": [
    "### **Create a DSM**"
   ]
  },
  {
   "cell_type": "code",
   "execution_count": null,
   "metadata": {},
   "outputs": [],
   "source": []
  },
  {
   "cell_type": "markdown",
   "metadata": {},
   "source": [
    "### **Plot the DSM**"
   ]
  },
  {
   "cell_type": "code",
   "execution_count": null,
   "metadata": {},
   "outputs": [],
   "source": []
  },
  {
   "cell_type": "code",
   "execution_count": null,
   "metadata": {},
   "outputs": [],
   "source": []
  },
  {
   "cell_type": "code",
   "execution_count": null,
   "metadata": {},
   "outputs": [],
   "source": []
  },
  {
   "cell_type": "markdown",
   "metadata": {},
   "source": [
    "That's it!\n",
    "We should have some spare time to cover any lingering questions in more depth.\n",
    "If any of you have any questions afterwards the workshop/conference,\n",
    "feel free to post them on our [community forum](https://forum.generic-mapping-tools.org)\n",
    "and we'll be more than happy to assist."
   ]
  }
 ],
 "metadata": {
  "kernelspec": {
   "display_name": "Python 3",
   "language": "python",
   "name": "python3"
  },
  "language_info": {
   "codemirror_mode": {
    "name": "ipython",
    "version": 3
   },
   "file_extension": ".py",
   "mimetype": "text/x-python",
   "name": "python",
   "nbconvert_exporter": "python",
   "pygments_lexer": "ipython3",
   "version": "3.7.3"
  }
 },
 "nbformat": 4,
 "nbformat_minor": 4
}
